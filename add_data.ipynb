{
 "cells": [
  {
   "cell_type": "code",
   "execution_count": 31,
   "metadata": {
    "collapsed": true,
    "pycharm": {
     "name": "#%%\n"
    }
   },
   "outputs": [],
   "source": [
    "import os\n",
    "from pathlib import Path\n",
    "\n",
    "from atomate.utils.utils import get_database\n",
    "from monty.json import MontyDecoder\n",
    "\n",
    "import json\n",
    "\n",
    "from tqdm import tqdm\n",
    "\n",
    "db = get_database(\"/Users/kumagai/pacman_db.json\", admin=True)\n",
    "decoder = MontyDecoder()\n",
    "\n",
    "# for dvd in tqdm(db.defect_visual_data.find({}, {\"_id\": 0})):\n",
    "#     formula = dvd[\"formula\"]\n",
    "\n",
    "\n",
    "    # if os.path.exists(f'data/{formula}'):\n",
    "    #     continue\n",
    "    # print(formula)\n",
    "    # os.mkdir(f'data/{formula}')\n",
    "\n",
    "    # with open(f'data/{formula}/chem_pot_diag.json', 'w') as fp:\n",
    "    #     json.dump(dvd, fp)\n",
    "\n",
    "    # d = db.bulk_visual_data.find_one({\"formula\": formula}, {\"_id\": 0})\n",
    "    # with open(f'data/{formula}/bulk_visual_data.json', 'w') as fp:\n",
    "    #     json.dump(d, fp)\n",
    "\n",
    "    # d = db.defect_visual_data.find_one({\"formula\": formula}, {\"_id\": 0})\n",
    "    # with open(f'data/{formula}/defect_visual_data.json', 'w') as fp:\n",
    "    #     json.dump(d, fp)"
   ]
  },
  {
   "cell_type": "code",
   "execution_count": 32,
   "outputs": [
    {
     "name": "stderr",
     "output_type": "stream",
     "text": [
      "937it [01:59,  7.81it/s]\n"
     ]
    }
   ],
   "source": [
    "from glob import glob\n",
    "import shutil\n",
    "\n",
    "for dvd in tqdm(db.defect_visual_data.find({}, {\"_id\": 0})):\n",
    "    formula = dvd[\"formula\"]\n",
    "    for x in glob(f\"/Users/kumagai/psi/pacman/vesta_files/{formula}*tar.gz\"):\n",
    "#    for x in glob(f\"/Users/kumagai/psi/pacman/vesta_files/{formula}*vesta\"):\n",
    "        name = x.split(\"/\")[-1]\n",
    "        shutil.copyfile(x, f'data/{formula}/{name}')"
   ],
   "metadata": {
    "collapsed": false,
    "pycharm": {
     "name": "#%%\n"
    }
   }
  },
  {
   "cell_type": "code",
   "execution_count": 33,
   "outputs": [],
   "source": [
    "# from pydefect.input_maker.supercell_info import SupercellInfo\n",
    "# for dvd in tqdm(db.defect_visual_data.find({}, {\"_id\": 0})):\n",
    "#     formula = dvd[\"formula\"]\n",
    "#     if os.path.exists(f'structure_info/{formula}'):\n",
    "#         continue\n",
    "#     os.mkdir(f'structure_info/{formula}')\n",
    "#     print(formula)\n",
    "#     d = db.defect_info.find_one({\"formula\": formula}, {\"_id\": 0})[\"supercell_info\"]\n",
    "#     supercell_info = SupercellInfo.from_dict(d)\n",
    "#     Path(f'structure_info/{formula}/cell_info.txt').write_text(supercell_info.__str__())\n",
    "#     Path(f'structure_info/{formula}/supercell.cif').write_text(supercell_info.structure.to(fmt=\"cif\"))"
   ],
   "metadata": {
    "collapsed": false,
    "pycharm": {
     "name": "#%%\n"
    }
   }
  }
 ],
 "metadata": {
  "kernelspec": {
   "display_name": "Python 3",
   "language": "python",
   "name": "python3"
  },
  "language_info": {
   "codemirror_mode": {
    "name": "ipython",
    "version": 2
   },
   "file_extension": ".py",
   "mimetype": "text/x-python",
   "name": "python",
   "nbconvert_exporter": "python",
   "pygments_lexer": "ipython2",
   "version": "2.7.6"
  }
 },
 "nbformat": 4,
 "nbformat_minor": 0
}