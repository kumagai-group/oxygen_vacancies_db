{
 "cells": [
  {
   "cell_type": "code",
   "execution_count": 3,
   "metadata": {
    "collapsed": true
   },
   "outputs": [],
   "source": [
    "import pandas as pd\n",
    "charge = 2\n",
    "\n",
    "pd.set_option(\"display.max_columns\", 100)\n",
    "\n",
    "df = pd.read_pickle(f\"df_charge{charge}.pcl\")"
   ]
  },
  {
   "cell_type": "code",
   "execution_count": 4,
   "outputs": [
    {
     "name": "stdout",
     "output_type": "stream",
     "text": [
      "    formula    full_name  ave_ele_diele  ave_ion_diele  band_gap     cbm_d  \\\n",
      "503   Ga2O3  Ga2O3_Va_O1       4.106605       7.704474    2.2114  0.041758   \n",
      "504   Ga2O3  Ga2O3_Va_O2       4.106605       7.704474    2.2114  0.041758   \n",
      "505   Ga2O3  Ga2O3_Va_O3       4.106605       7.704474    2.2114  0.041758   \n",
      "\n",
      "     cbm_f     cbm_p     cbm_s  formation_energy    vbm_d  vbm_f     vbm_p  \\\n",
      "503    0.0  0.955239  0.003003         -2.268997  0.05006    0.0  0.944883   \n",
      "504    0.0  0.955239  0.003003         -2.268997  0.05006    0.0  0.944883   \n",
      "505    0.0  0.955239  0.003003         -2.268997  0.05006    0.0  0.944883   \n",
      "\n",
      "        vbm_s   ave_bec  bader_charge  bader_volume  nn_ave_ave_bec  \\\n",
      "503  0.005057 -1.969803     -1.121051     11.634564        1.204584   \n",
      "504  0.005057 -2.155667     -1.094752     10.919345        1.472245   \n",
      "505  0.005057 -2.006993     -1.059663     11.613999        1.230433   \n",
      "\n",
      "     nn_ave_bader_charge  nn_ave_eleneg  nn_max_ave_bec  nn_max_bader_charge  \\\n",
      "503             0.660863       2.389441        3.250527             1.654419   \n",
      "504             0.768757       2.331346        3.250527             1.654419   \n",
      "505             0.652325       2.400513        3.250527             1.654403   \n",
      "\n",
      "     nn_max_eleneg  nn_min_ave_bec  nn_min_bader_charge  nn_min_eleneg  \\\n",
      "503           3.44       -1.969803            -1.120673           1.81   \n",
      "504           1.81        2.881937             1.620978           1.81   \n",
      "505           3.44       -2.006993            -1.059688           1.81   \n",
      "\n",
      "     o2p_center_from_vbm         O  Ge  Al  vacancy_formation_energy  Pb  Zn  \\\n",
      "503             2.834572  0.355486 NaN NaN                  0.353888 NaN NaN   \n",
      "504             2.887039  0.319844 NaN NaN                 -0.684180 NaN NaN   \n",
      "505             2.463588  0.362278 NaN NaN                  0.220712 NaN NaN   \n",
      "\n",
      "     Bi  Ag  Cu  Sb  As   B  Ba  Ca   W  Cd  Hf  In        Ga  La  Ta  Li  Re  \\\n",
      "503 NaN NaN NaN NaN NaN NaN NaN NaN NaN NaN NaN NaN  0.644514 NaN NaN NaN NaN   \n",
      "504 NaN NaN NaN NaN NaN NaN NaN NaN NaN NaN NaN NaN  0.680156 NaN NaN NaN NaN   \n",
      "505 NaN NaN NaN NaN NaN NaN NaN NaN NaN NaN NaN NaN  0.637722 NaN NaN NaN NaN   \n",
      "\n",
      "     Mg  Mo  Si  Sc  Nb  Sn  Sr  Ti   Y  Zr  Na   V  Be  Ce  Pd  Cr  Cs  Au  \\\n",
      "503 NaN NaN NaN NaN NaN NaN NaN NaN NaN NaN NaN NaN NaN NaN NaN NaN NaN NaN   \n",
      "504 NaN NaN NaN NaN NaN NaN NaN NaN NaN NaN NaN NaN NaN NaN NaN NaN NaN NaN   \n",
      "505 NaN NaN NaN NaN NaN NaN NaN NaN NaN NaN NaN NaN NaN NaN NaN NaN NaN NaN   \n",
      "\n",
      "     Tl  Hg   K  Rb  \n",
      "503 NaN NaN NaN NaN  \n",
      "504 NaN NaN NaN NaN  \n",
      "505 NaN NaN NaN NaN  \n"
     ]
    }
   ],
   "source": [
    "print(df.query(\"formula == 'Ga2O3'\"))"
   ],
   "metadata": {
    "collapsed": false,
    "pycharm": {
     "name": "#%%\n"
    }
   }
  }
 ],
 "metadata": {
  "kernelspec": {
   "display_name": "Python 3",
   "language": "python",
   "name": "python3"
  },
  "language_info": {
   "codemirror_mode": {
    "name": "ipython",
    "version": 2
   },
   "file_extension": ".py",
   "mimetype": "text/x-python",
   "name": "python",
   "nbconvert_exporter": "python",
   "pygments_lexer": "ipython2",
   "version": "2.7.6"
  }
 },
 "nbformat": 4,
 "nbformat_minor": 0
}